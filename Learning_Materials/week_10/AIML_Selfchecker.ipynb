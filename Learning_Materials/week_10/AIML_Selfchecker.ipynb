{
 "cells": [
  {
   "cell_type": "markdown",
   "metadata": {},
   "source": [
    "# AIML Portfolio Self-check\n",
    "\n",
    "## TO USE THIS NOTEBOOK RUN EACH CELL ONE BY ONE\n",
    "### If you get errors (red boxes appear) fix them before you move on.\n",
    "\n",
    "<div class=\"alert alert-block alert-danger\"> <b>REMEMBER:</b> You need to make sure you are running this code within the virtual environment you created using 'AIenv'.<br> In Jupyter click on the kernel menu then change-kernel. In VSCode use the kernel selector in the top-right hand corner </div>"
   ]
  },
  {
   "cell_type": "markdown",
   "metadata": {},
   "source": [
    "### 1: Develop your aiml code in the next cell\n",
    "### and run the cell to write it to file"
   ]
  },
  {
   "cell_type": "code",
   "execution_count": 1,
   "metadata": {
    "tags": []
   },
   "outputs": [
    {
     "name": "stdout",
     "output_type": "stream",
     "text": [
      "Writing student.aiml\n"
     ]
    }
   ],
   "source": [
    "%%writefile \"student.aiml\"\n",
    "<aiml>\n",
    "\n",
    "<!-- delete the useless category below and put your code  after this comment-->\n",
    "<category>\n",
    "  <pattern> * </pattern>\n",
    " <template> I have no answer for that.</template>\n",
    "</category>\n",
    "\n",
    "</aiml>"
   ]
  },
  {
   "cell_type": "markdown",
   "metadata": {},
   "source": [
    "### 2: Run the next code cell to:\n",
    "- do some imports\n",
    "- create a marker object\n",
    "- load the 45 questions-response pairs"
   ]
  },
  {
   "cell_type": "code",
   "execution_count": 3,
   "metadata": {
    "tags": []
   },
   "outputs": [
    {
     "ename": "ModuleNotFoundError",
     "evalue": "No module named 'aiml'",
     "output_type": "error",
     "traceback": [
      "\u001b[1;31m---------------------------------------------------------------------------\u001b[0m",
      "\u001b[1;31mModuleNotFoundError\u001b[0m                       Traceback (most recent call last)",
      "Cell \u001b[1;32mIn[3], line 1\u001b[0m\n\u001b[1;32m----> 1\u001b[0m \u001b[38;5;28;01mfrom\u001b[39;00m\u001b[38;5;250m \u001b[39m\u001b[38;5;21;01maimlmarker\u001b[39;00m\u001b[38;5;250m \u001b[39m\u001b[38;5;28;01mimport\u001b[39;00m AIMLMarker\n\u001b[0;32m      3\u001b[0m my_marker \u001b[38;5;241m=\u001b[39m AIMLMarker()\n\u001b[0;32m      5\u001b[0m my_marker\u001b[38;5;241m.\u001b[39mload_questions()\n",
      "File \u001b[1;32mc:\\Users\\Dell\\Desktop\\AI\\Artificial_Intelligence_1\\Learning_Materials\\week_10\\aimlmarker.py:17\u001b[0m\n\u001b[0;32m     14\u001b[0m \u001b[38;5;28;01mfrom\u001b[39;00m\u001b[38;5;250m \u001b[39m\u001b[38;5;21;01mxml\u001b[39;00m\u001b[38;5;21;01m.\u001b[39;00m\u001b[38;5;21;01msax\u001b[39;00m\u001b[38;5;250m \u001b[39m\u001b[38;5;28;01mimport\u001b[39;00m make_parser\n\u001b[0;32m     15\u001b[0m \u001b[38;5;28;01mfrom\u001b[39;00m\u001b[38;5;250m \u001b[39m\u001b[38;5;21;01mxml\u001b[39;00m\u001b[38;5;21;01m.\u001b[39;00m\u001b[38;5;21;01msax\u001b[39;00m\u001b[38;5;21;01m.\u001b[39;00m\u001b[38;5;21;01mhandler\u001b[39;00m\u001b[38;5;250m \u001b[39m\u001b[38;5;28;01mimport\u001b[39;00m ContentHandler\n\u001b[1;32m---> 17\u001b[0m \u001b[38;5;28;01mimport\u001b[39;00m\u001b[38;5;250m \u001b[39m\u001b[38;5;21;01maiml\u001b[39;00m\n\u001b[0;32m     20\u001b[0m \u001b[38;5;28;01mclass\u001b[39;00m\u001b[38;5;250m \u001b[39m\u001b[38;5;21;01mCapturing\u001b[39;00m(\u001b[38;5;28mlist\u001b[39m):\n\u001b[0;32m     21\u001b[0m     \u001b[38;5;28;01mdef\u001b[39;00m\u001b[38;5;250m \u001b[39m\u001b[38;5;21m__enter__\u001b[39m(\u001b[38;5;28mself\u001b[39m):\n",
      "\u001b[1;31mModuleNotFoundError\u001b[0m: No module named 'aiml'"
     ]
    }
   ],
   "source": [
    "from aimlmarker import AIMLMarker\n",
    "\n",
    "my_marker = AIMLMarker()\n",
    "\n",
    "my_marker.load_questions()"
   ]
  },
  {
   "cell_type": "markdown",
   "metadata": {
    "tags": []
   },
   "source": [
    "### 3:Provided that runs ok, run the next cell to load and test your aiml"
   ]
  },
  {
   "cell_type": "code",
   "execution_count": null,
   "metadata": {
    "tags": []
   },
   "outputs": [],
   "source": [
    "my_marker.test_aiml()\n",
    "print(f\"Score is {my_marker.score}\")\n",
    "feedback = my_marker.feedback_str.replace(\"&lt;\", \"<\").replace(\"&gt;\", \">\")\n",
    "\n",
    "print(f\"Feedback is:\\n{feedback}\")"
   ]
  },
  {
   "cell_type": "markdown",
   "metadata": {},
   "source": [
    "### 4: Repeat step3 until there are no errors. \n",
    "### Then you can run the next cell to see what your bot responded for each question"
   ]
  },
  {
   "cell_type": "code",
   "execution_count": null,
   "metadata": {
    "tags": []
   },
   "outputs": [],
   "source": [
    "!cat \"student-responses.txt\""
   ]
  }
 ],
 "metadata": {
  "kernelspec": {
   "display_name": "anaconda3",
   "language": "python",
   "name": "python3"
  },
  "language_info": {
   "codemirror_mode": {
    "name": "ipython",
    "version": 3
   },
   "file_extension": ".py",
   "mimetype": "text/x-python",
   "name": "python",
   "nbconvert_exporter": "python",
   "pygments_lexer": "ipython3",
   "version": "3.9.21"
  }
 },
 "nbformat": 4,
 "nbformat_minor": 4
}
